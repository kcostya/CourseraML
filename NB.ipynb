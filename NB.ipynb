{
 "cells": [
  {
   "cell_type": "code",
   "execution_count": 4,
   "metadata": {},
   "outputs": [],
   "source": [
    "from sklearn.datasets import load_digits, load_breast_cancer\n",
    "from sklearn.cross_validation import cross_val_score\n",
    "from sklearn.naive_bayes import BernoulliNB, MultinomialNB, GaussianNB"
   ]
  },
  {
   "cell_type": "code",
   "execution_count": 5,
   "metadata": {},
   "outputs": [],
   "source": [
    "X_b, y_b = load_breast_cancer(return_X_y=True)\n",
    "X_d, y_d = load_digits(return_X_y=True)"
   ]
  },
  {
   "cell_type": "code",
   "execution_count": 7,
   "metadata": {},
   "outputs": [
    {
     "name": "stdout",
     "output_type": "stream",
     "text": [
      "0.6274204028589994\n",
      "0.8945790401930752\n",
      "0.9367492806089297\n"
     ]
    }
   ],
   "source": [
    "print cross_val_score(BernoulliNB(), X_b, y_b).mean()\n",
    "print cross_val_score(MultinomialNB(), X_b, y_b).mean()\n",
    "print cross_val_score(GaussianNB(), X_b, y_b).mean()"
   ]
  },
  {
   "cell_type": "code",
   "execution_count": 8,
   "metadata": {},
   "outputs": [
    {
     "name": "stdout",
     "output_type": "stream",
     "text": [
      "0.8258236507780582\n",
      "0.8708771489735053\n",
      "0.8186003803550138\n"
     ]
    }
   ],
   "source": [
    "print cross_val_score(BernoulliNB(), X_d, y_d).mean()\n",
    "print cross_val_score(MultinomialNB(), X_d, y_d).mean()\n",
    "print cross_val_score(GaussianNB(), X_d, y_d).mean()"
   ]
  },
  {
   "cell_type": "code",
   "execution_count": null,
   "metadata": {},
   "outputs": [],
   "source": []
  }
 ],
 "metadata": {
  "kernelspec": {
   "display_name": "Python 3",
   "language": "python",
   "name": "python3"
  },
  "language_info": {
   "codemirror_mode": {
    "name": "ipython",
    "version": 2
   },
   "file_extension": ".py",
   "mimetype": "text/x-python",
   "name": "python",
   "nbconvert_exporter": "python",
   "pygments_lexer": "ipython2",
   "version": "2.7.12"
  }
 },
 "nbformat": 4,
 "nbformat_minor": 2
}
