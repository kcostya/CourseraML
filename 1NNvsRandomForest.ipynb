{
 "cells": [
  {
   "cell_type": "code",
   "execution_count": 19,
   "metadata": {},
   "outputs": [],
   "source": [
    "import numpy as np\n",
    "from sklearn.datasets import load_digits\n",
    "from sklearn.ensemble import RandomForestClassifier\n",
    "from sklearn.metrics import accuracy_score\n",
    "from sklearn.model_selection import train_test_split\n",
    "from sklearn.neighbors import KNeighborsClassifier"
   ]
  },
  {
   "cell_type": "code",
   "execution_count": 20,
   "metadata": {},
   "outputs": [],
   "source": [
    "X, y = load_digits(return_X_y=True)\n",
    "X_train, X_test, y_train, y_test = train_test_split(X, y, test_size=0.25, shuffle=False)"
   ]
  },
  {
   "cell_type": "code",
   "execution_count": 55,
   "metadata": {},
   "outputs": [],
   "source": [
    "#1\n",
    "def nnclassify(X_test, X_train, y_train):\n",
    "    res = np.array([])\n",
    "    for i in range(len(X_test)):\n",
    "        dist = np.array([])\n",
    "        a = np.array(X_test[i])\n",
    "        for j in range(len(X_train)):\n",
    "            b = np.array(X_train[j])\n",
    "            dist = np.append(dist, np.linalg.norm(a-b, ord=2))\n",
    "        res = np.append(res, int(y_train[np.argmin(dist)]))\n",
    "    return res"
   ]
  },
  {
   "cell_type": "code",
   "execution_count": 56,
   "metadata": {},
   "outputs": [
    {
     "name": "stdout",
     "output_type": "stream",
     "text": [
      "0.03777777777777778\n",
      "CPU times: user 9.63 s, sys: 0 ns, total: 9.63 s\n",
      "Wall time: 9.62 s\n"
     ]
    }
   ],
   "source": [
    "%%time\n",
    "y_pred = nnclassify(X_test, X_train, y_train)\n",
    "print sum([y_test[i] != y_pred[i] for i in range(len(y_test))])/float(len(y_test))"
   ]
  },
  {
   "cell_type": "code",
   "execution_count": 53,
   "metadata": {},
   "outputs": [
    {
     "name": "stdout",
     "output_type": "stream",
     "text": [
      "0.06222222222222218\n",
      "CPU times: user 3.6 s, sys: 112 ms, total: 3.71 s\n",
      "Wall time: 3.62 s\n"
     ]
    }
   ],
   "source": [
    "%%time\n",
    "est = RandomForestClassifier(n_estimators=1000)\n",
    "est.fit(X_train, y_train)\n",
    "print 1 - accuracy_score(y_test, est.predict(X_test))"
   ]
  },
  {
   "cell_type": "code",
   "execution_count": 57,
   "metadata": {},
   "outputs": [
    {
     "name": "stdout",
     "output_type": "stream",
     "text": [
      "0.0377777777777778\n",
      "CPU times: user 60.7 ms, sys: 4 ms, total: 64.7 ms\n",
      "Wall time: 63.6 ms\n"
     ]
    }
   ],
   "source": [
    "%%time\n",
    "est = KNeighborsClassifier(n_neighbors=1)\n",
    "est.fit(X_train, y_train)\n",
    "print 1 - accuracy_score(y_test, est.predict(X_test))"
   ]
  },
  {
   "cell_type": "code",
   "execution_count": null,
   "metadata": {},
   "outputs": [],
   "source": []
  }
 ],
 "metadata": {
  "kernelspec": {
   "display_name": "Python 3",
   "language": "python",
   "name": "python3"
  },
  "language_info": {
   "codemirror_mode": {
    "name": "ipython",
    "version": 2
   },
   "file_extension": ".py",
   "mimetype": "text/x-python",
   "name": "python",
   "nbconvert_exporter": "python",
   "pygments_lexer": "ipython2",
   "version": "2.7.12"
  }
 },
 "nbformat": 4,
 "nbformat_minor": 2
}
